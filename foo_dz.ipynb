{
  "nbformat": 4,
  "nbformat_minor": 5,
  "metadata": {
    "kernelspec": {
      "display_name": "Python 3",
      "language": "python",
      "name": "python3"
    },
    "language_info": {
      "codemirror_mode": {
        "name": "ipython",
        "version": 3
      },
      "file_extension": ".py",
      "mimetype": "text/x-python",
      "name": "python",
      "nbconvert_exporter": "python",
      "pygments_lexer": "ipython3",
      "version": "3.8.5"
    },
    "colab": {
      "name": "foo_dz.ipynb",
      "provenance": [],
      "include_colab_link": true
    }
  },
  "cells": [
    {
      "cell_type": "markdown",
      "metadata": {
        "id": "view-in-github",
        "colab_type": "text"
      },
      "source": [
        "<a href=\"https://colab.research.google.com/github/GezhinOleg/Num_Pnd_L3/blob/main/foo_dz.ipynb\" target=\"_parent\"><img src=\"https://colab.research.google.com/assets/colab-badge.svg\" alt=\"Open In Colab\"/></a>"
      ]
    },
    {
      "cell_type": "markdown",
      "metadata": {
        "id": "sufficient-baghdad"
      },
      "source": [
        "#Домашнее задание к лекции \"Функции и работа с данными\"\n",
        "\n",
        "##Задание 1\n",
        "\n",
        "Напишите функцию, которая классифицирует фильмы из материалов занятия по следующим правилам:\n",
        "\n",
        "    оценка 2 и меньше - низкий рейтинг\n",
        "    оценка 4 и меньше - средний рейтинг\n",
        "    оценка 4.5 и 5 - высокий рейтинг\n",
        "\n",
        "Результат классификации запишите в столбец class\n",
        "\n"
      ],
      "id": "sufficient-baghdad"
    },
    {
      "cell_type": "code",
      "metadata": {
        "id": "catholic-checklist"
      },
      "source": [
        "import pandas as pd\n",
        "import numpy as np"
      ],
      "id": "catholic-checklist",
      "execution_count": null,
      "outputs": []
    },
    {
      "cell_type": "code",
      "metadata": {
        "id": "opposed-assurance"
      },
      "source": [
        "ratings = pd.read_csv('ml-latest-small/ratings.csv')"
      ],
      "id": "opposed-assurance",
      "execution_count": null,
      "outputs": []
    },
    {
      "cell_type": "code",
      "metadata": {
        "id": "subject-anderson"
      },
      "source": [
        "def class_movies(row):\n",
        "    if row['rating']<=2.0:\n",
        "        return 'низкий рейтинг'\n",
        "    elif 2.0<row['rating']<=4.0:\n",
        "        return 'средний рейтинг'\n",
        "    else:\n",
        "        return 'высокий рейтинг'"
      ],
      "id": "subject-anderson",
      "execution_count": null,
      "outputs": []
    },
    {
      "cell_type": "code",
      "metadata": {
        "id": "clean-asthma",
        "outputId": "8b8262c6-20fd-4c4b-88bd-a8c9770741b6"
      },
      "source": [
        "ratings['class'] = ratings.apply(class_movies, axis=1)\n",
        "ratings.head()"
      ],
      "id": "clean-asthma",
      "execution_count": null,
      "outputs": [
        {
          "output_type": "execute_result",
          "data": {
            "text/html": [
              "<div>\n",
              "<style scoped>\n",
              "    .dataframe tbody tr th:only-of-type {\n",
              "        vertical-align: middle;\n",
              "    }\n",
              "\n",
              "    .dataframe tbody tr th {\n",
              "        vertical-align: top;\n",
              "    }\n",
              "\n",
              "    .dataframe thead th {\n",
              "        text-align: right;\n",
              "    }\n",
              "</style>\n",
              "<table border=\"1\" class=\"dataframe\">\n",
              "  <thead>\n",
              "    <tr style=\"text-align: right;\">\n",
              "      <th></th>\n",
              "      <th>userId</th>\n",
              "      <th>movieId</th>\n",
              "      <th>rating</th>\n",
              "      <th>timestamp</th>\n",
              "      <th>class</th>\n",
              "    </tr>\n",
              "  </thead>\n",
              "  <tbody>\n",
              "    <tr>\n",
              "      <th>0</th>\n",
              "      <td>1</td>\n",
              "      <td>31</td>\n",
              "      <td>2.5</td>\n",
              "      <td>1260759144</td>\n",
              "      <td>средний рейтинг</td>\n",
              "    </tr>\n",
              "    <tr>\n",
              "      <th>1</th>\n",
              "      <td>1</td>\n",
              "      <td>1029</td>\n",
              "      <td>3.0</td>\n",
              "      <td>1260759179</td>\n",
              "      <td>средний рейтинг</td>\n",
              "    </tr>\n",
              "    <tr>\n",
              "      <th>2</th>\n",
              "      <td>1</td>\n",
              "      <td>1061</td>\n",
              "      <td>3.0</td>\n",
              "      <td>1260759182</td>\n",
              "      <td>средний рейтинг</td>\n",
              "    </tr>\n",
              "    <tr>\n",
              "      <th>3</th>\n",
              "      <td>1</td>\n",
              "      <td>1129</td>\n",
              "      <td>2.0</td>\n",
              "      <td>1260759185</td>\n",
              "      <td>низкий рейтинг</td>\n",
              "    </tr>\n",
              "    <tr>\n",
              "      <th>4</th>\n",
              "      <td>1</td>\n",
              "      <td>1172</td>\n",
              "      <td>4.0</td>\n",
              "      <td>1260759205</td>\n",
              "      <td>средний рейтинг</td>\n",
              "    </tr>\n",
              "  </tbody>\n",
              "</table>\n",
              "</div>"
            ],
            "text/plain": [
              "   userId  movieId  rating   timestamp            class\n",
              "0       1       31     2.5  1260759144  средний рейтинг\n",
              "1       1     1029     3.0  1260759179  средний рейтинг\n",
              "2       1     1061     3.0  1260759182  средний рейтинг\n",
              "3       1     1129     2.0  1260759185   низкий рейтинг\n",
              "4       1     1172     4.0  1260759205  средний рейтинг"
            ]
          },
          "metadata": {
            "tags": []
          },
          "execution_count": 6
        }
      ]
    },
    {
      "cell_type": "markdown",
      "metadata": {
        "id": "matched-chemical"
      },
      "source": [
        "#Задание 2\n",
        "\n",
        "##Используем файл keywords.csv.\n",
        "\n",
        "Необходимо написать гео-классификатор, который каждой строке сможет выставить географическую принадлежность определенному региону. Т. е. если поисковый запрос содержит название города региона, то в столбце ‘region’ пишется название этого региона. Если поисковый запрос не содержит названия города, то ставим ‘undefined’.\n",
        "\n",
        "Правила распределения по регионам Центр, Северо-Запад и Дальний Восток:\n",
        "\n",
        "geo_data = {\n",
        "\n",
        "'Центр': ['москва', 'тула', 'ярославль'],\n",
        "\n",
        "'Северо-Запад': ['петербург', 'псков', 'мурманск'],\n",
        "\n",
        "'Дальний Восток': ['владивосток', 'сахалин', 'хабаровск'] }\n",
        "\n",
        "Результат классификации запишите в отдельный столбец region.\n"
      ],
      "id": "matched-chemical"
    },
    {
      "cell_type": "code",
      "metadata": {
        "id": "reported-ottawa",
        "outputId": "fe402697-39b6-4023-b5cd-6bc8f0b39a5c"
      },
      "source": [
        "geo_data = {\n",
        "\n",
        "'Центр':['москва', 'тула', 'ярославль'],\n",
        "\n",
        "'Северо-Запад':['петербург', 'псков', 'мурманск'],\n",
        "\n",
        "'Дальний Восток':['владивосток', 'сахалин', 'хабаровск'] \n",
        "}\n",
        "citys = []\n",
        "for i in geo_data.values():\n",
        "    for j in i:\n",
        "        citys.append(j)\n",
        "citys"
      ],
      "id": "reported-ottawa",
      "execution_count": null,
      "outputs": [
        {
          "output_type": "execute_result",
          "data": {
            "text/plain": [
              "['москва',\n",
              " 'тула',\n",
              " 'ярославль',\n",
              " 'петербург',\n",
              " 'псков',\n",
              " 'мурманск',\n",
              " 'владивосток',\n",
              " 'сахалин',\n",
              " 'хабаровск']"
            ]
          },
          "metadata": {
            "tags": []
          },
          "execution_count": 7
        }
      ]
    },
    {
      "cell_type": "code",
      "metadata": {
        "id": "considerable-running",
        "outputId": "41eb9334-1ebe-468f-9212-91e72c460a27"
      },
      "source": [
        "row = 'авито мурманск'\n",
        "data = row.split(' ')\n",
        "def check(t):\n",
        "    for i in t:\n",
        "        if i in citys:\n",
        "            for items in geo_data.items():\n",
        "                if i in items[1]:\n",
        "                    print(items[0])\n",
        "check(data)"
      ],
      "id": "considerable-running",
      "execution_count": null,
      "outputs": [
        {
          "output_type": "stream",
          "text": [
            "Северо-Запад\n"
          ],
          "name": "stdout"
        }
      ]
    },
    {
      "cell_type": "code",
      "metadata": {
        "id": "educational-cinema",
        "outputId": "f79d578f-7a1f-49dd-ac59-7b9fb1106f04"
      },
      "source": [
        "regions = pd.read_csv('ml-latest-small/keywords.csv')\n",
        "regions.head()"
      ],
      "id": "educational-cinema",
      "execution_count": null,
      "outputs": [
        {
          "output_type": "execute_result",
          "data": {
            "text/html": [
              "<div>\n",
              "<style scoped>\n",
              "    .dataframe tbody tr th:only-of-type {\n",
              "        vertical-align: middle;\n",
              "    }\n",
              "\n",
              "    .dataframe tbody tr th {\n",
              "        vertical-align: top;\n",
              "    }\n",
              "\n",
              "    .dataframe thead th {\n",
              "        text-align: right;\n",
              "    }\n",
              "</style>\n",
              "<table border=\"1\" class=\"dataframe\">\n",
              "  <thead>\n",
              "    <tr style=\"text-align: right;\">\n",
              "      <th></th>\n",
              "      <th>keyword</th>\n",
              "      <th>shows</th>\n",
              "    </tr>\n",
              "  </thead>\n",
              "  <tbody>\n",
              "    <tr>\n",
              "      <th>0</th>\n",
              "      <td>вк</td>\n",
              "      <td>64292779</td>\n",
              "    </tr>\n",
              "    <tr>\n",
              "      <th>1</th>\n",
              "      <td>одноклассники</td>\n",
              "      <td>63810309</td>\n",
              "    </tr>\n",
              "    <tr>\n",
              "      <th>2</th>\n",
              "      <td>порно</td>\n",
              "      <td>41747114</td>\n",
              "    </tr>\n",
              "    <tr>\n",
              "      <th>3</th>\n",
              "      <td>ютуб</td>\n",
              "      <td>39995567</td>\n",
              "    </tr>\n",
              "    <tr>\n",
              "      <th>4</th>\n",
              "      <td>вконтакте</td>\n",
              "      <td>21014195</td>\n",
              "    </tr>\n",
              "  </tbody>\n",
              "</table>\n",
              "</div>"
            ],
            "text/plain": [
              "         keyword     shows\n",
              "0             вк  64292779\n",
              "1  одноклассники  63810309\n",
              "2          порно  41747114\n",
              "3           ютуб  39995567\n",
              "4      вконтакте  21014195"
            ]
          },
          "metadata": {
            "tags": []
          },
          "execution_count": 14
        }
      ]
    },
    {
      "cell_type": "code",
      "metadata": {
        "id": "quantitative-zimbabwe"
      },
      "source": [
        "def search_in_keyword(row):\n",
        "    data = row['keyword'].split(' ')\n",
        "    i = 0\n",
        "    for word in data:\n",
        "        if word in citys:\n",
        "            for items in geo_data.items():\n",
        "                if word in items[1]:\n",
        "                    i += 1\n",
        "                    return items[0]\n",
        "    if i==0:\n",
        "        return 'undefined'  "
      ],
      "id": "quantitative-zimbabwe",
      "execution_count": null,
      "outputs": []
    },
    {
      "cell_type": "code",
      "metadata": {
        "id": "middle-sensitivity",
        "outputId": "882f92bd-443c-4576-f592-bb39fff6f26d"
      },
      "source": [
        "regions['region'] = regions.apply(search_in_keyword, axis=1)\n",
        "regions.head()"
      ],
      "id": "middle-sensitivity",
      "execution_count": null,
      "outputs": [
        {
          "output_type": "execute_result",
          "data": {
            "text/html": [
              "<div>\n",
              "<style scoped>\n",
              "    .dataframe tbody tr th:only-of-type {\n",
              "        vertical-align: middle;\n",
              "    }\n",
              "\n",
              "    .dataframe tbody tr th {\n",
              "        vertical-align: top;\n",
              "    }\n",
              "\n",
              "    .dataframe thead th {\n",
              "        text-align: right;\n",
              "    }\n",
              "</style>\n",
              "<table border=\"1\" class=\"dataframe\">\n",
              "  <thead>\n",
              "    <tr style=\"text-align: right;\">\n",
              "      <th></th>\n",
              "      <th>keyword</th>\n",
              "      <th>shows</th>\n",
              "      <th>region</th>\n",
              "    </tr>\n",
              "  </thead>\n",
              "  <tbody>\n",
              "    <tr>\n",
              "      <th>0</th>\n",
              "      <td>вк</td>\n",
              "      <td>64292779</td>\n",
              "      <td>undefined</td>\n",
              "    </tr>\n",
              "    <tr>\n",
              "      <th>1</th>\n",
              "      <td>одноклассники</td>\n",
              "      <td>63810309</td>\n",
              "      <td>undefined</td>\n",
              "    </tr>\n",
              "    <tr>\n",
              "      <th>2</th>\n",
              "      <td>порно</td>\n",
              "      <td>41747114</td>\n",
              "      <td>undefined</td>\n",
              "    </tr>\n",
              "    <tr>\n",
              "      <th>3</th>\n",
              "      <td>ютуб</td>\n",
              "      <td>39995567</td>\n",
              "      <td>undefined</td>\n",
              "    </tr>\n",
              "    <tr>\n",
              "      <th>4</th>\n",
              "      <td>вконтакте</td>\n",
              "      <td>21014195</td>\n",
              "      <td>undefined</td>\n",
              "    </tr>\n",
              "  </tbody>\n",
              "</table>\n",
              "</div>"
            ],
            "text/plain": [
              "         keyword     shows     region\n",
              "0             вк  64292779  undefined\n",
              "1  одноклассники  63810309  undefined\n",
              "2          порно  41747114  undefined\n",
              "3           ютуб  39995567  undefined\n",
              "4      вконтакте  21014195  undefined"
            ]
          },
          "metadata": {
            "tags": []
          },
          "execution_count": 18
        }
      ]
    },
    {
      "cell_type": "code",
      "metadata": {
        "id": "logical-venue",
        "outputId": "c76aa80d-aef4-45b0-f306-f1ae5d2df762"
      },
      "source": [
        "regions[(regions['region']!='undefined')]"
      ],
      "id": "logical-venue",
      "execution_count": null,
      "outputs": [
        {
          "output_type": "execute_result",
          "data": {
            "text/html": [
              "<div>\n",
              "<style scoped>\n",
              "    .dataframe tbody tr th:only-of-type {\n",
              "        vertical-align: middle;\n",
              "    }\n",
              "\n",
              "    .dataframe tbody tr th {\n",
              "        vertical-align: top;\n",
              "    }\n",
              "\n",
              "    .dataframe thead th {\n",
              "        text-align: right;\n",
              "    }\n",
              "</style>\n",
              "<table border=\"1\" class=\"dataframe\">\n",
              "  <thead>\n",
              "    <tr style=\"text-align: right;\">\n",
              "      <th></th>\n",
              "      <th>keyword</th>\n",
              "      <th>shows</th>\n",
              "      <th>region</th>\n",
              "    </tr>\n",
              "  </thead>\n",
              "  <tbody>\n",
              "    <tr>\n",
              "      <th>127</th>\n",
              "      <td>авито москва</td>\n",
              "      <td>979292</td>\n",
              "      <td>Центр</td>\n",
              "    </tr>\n",
              "    <tr>\n",
              "      <th>370</th>\n",
              "      <td>авито ру санкт петербург</td>\n",
              "      <td>425134</td>\n",
              "      <td>Северо-Запад</td>\n",
              "    </tr>\n",
              "    <tr>\n",
              "      <th>849</th>\n",
              "      <td>авито ярославль</td>\n",
              "      <td>209581</td>\n",
              "      <td>Центр</td>\n",
              "    </tr>\n",
              "    <tr>\n",
              "      <th>1063</th>\n",
              "      <td>фарпост владивосток</td>\n",
              "      <td>176951</td>\n",
              "      <td>Дальний Восток</td>\n",
              "    </tr>\n",
              "    <tr>\n",
              "      <th>1236</th>\n",
              "      <td>банк санкт петербург</td>\n",
              "      <td>174375</td>\n",
              "      <td>Северо-Запад</td>\n",
              "    </tr>\n",
              "    <tr>\n",
              "      <th>...</th>\n",
              "      <td>...</td>\n",
              "      <td>...</td>\n",
              "      <td>...</td>\n",
              "    </tr>\n",
              "    <tr>\n",
              "      <th>99292</th>\n",
              "      <td>афиша кино москва на сегодня</td>\n",
              "      <td>3704</td>\n",
              "      <td>Центр</td>\n",
              "    </tr>\n",
              "    <tr>\n",
              "      <th>99590</th>\n",
              "      <td>авито ярославль автомобили с пробегом</td>\n",
              "      <td>3673</td>\n",
              "      <td>Центр</td>\n",
              "    </tr>\n",
              "    <tr>\n",
              "      <th>99808</th>\n",
              "      <td>полармед мурманск запись на прием</td>\n",
              "      <td>3719</td>\n",
              "      <td>Северо-Запад</td>\n",
              "    </tr>\n",
              "    <tr>\n",
              "      <th>99890</th>\n",
              "      <td>яндекс метро москва</td>\n",
              "      <td>4548</td>\n",
              "      <td>Центр</td>\n",
              "    </tr>\n",
              "    <tr>\n",
              "      <th>99922</th>\n",
              "      <td>авто ру ярославль</td>\n",
              "      <td>3712</td>\n",
              "      <td>Центр</td>\n",
              "    </tr>\n",
              "  </tbody>\n",
              "</table>\n",
              "<p>594 rows × 3 columns</p>\n",
              "</div>"
            ],
            "text/plain": [
              "                                     keyword   shows          region\n",
              "127                             авито москва  979292           Центр\n",
              "370                 авито ру санкт петербург  425134    Северо-Запад\n",
              "849                          авито ярославль  209581           Центр\n",
              "1063                     фарпост владивосток  176951  Дальний Восток\n",
              "1236                    банк санкт петербург  174375    Северо-Запад\n",
              "...                                      ...     ...             ...\n",
              "99292           афиша кино москва на сегодня    3704           Центр\n",
              "99590  авито ярославль автомобили с пробегом    3673           Центр\n",
              "99808      полармед мурманск запись на прием    3719    Северо-Запад\n",
              "99890                    яндекс метро москва    4548           Центр\n",
              "99922                      авто ру ярославль    3712           Центр\n",
              "\n",
              "[594 rows x 3 columns]"
            ]
          },
          "metadata": {
            "tags": []
          },
          "execution_count": 19
        }
      ]
    },
    {
      "cell_type": "markdown",
      "metadata": {
        "id": "american-recorder"
      },
      "source": [
        "#Задание 3 (бонусное)\n",
        "\n",
        "Есть мнение, что “раньше снимали настоящее кино, не то что сейчас”. Ваша задача проверить это утверждение, используя файлы с рейтингами фильмов из прошлого домашнего занятия (файл movies.csv и ratings.csv из базы grouplens.org.../movielens). Т. е. проверить верно ли, что с ростом года выпуска фильма его средний рейтинг становится ниже.\n",
        "\n",
        "При этом мы не будем затрагивать субьективные факторы выставления этих рейтингов, а пройдемся по следующему алгоритму:\n",
        "###Напишите функцию production_year, которая каждой строке из названия фильма выставляет год выпуска. Не все названия фильмов содержат год выпуска в одинаковом формате, поэтому используйте следующий алгоритм:\n",
        "      \n",
        "1.   для каждой строки пройдите по всем годам списка years\n",
        "2.   если номер года присутствует в названии фильма, то функция возвращает этот год как год выпуска\n",
        "3.   В переменную years запишите список из всех годов с 1950 по 2010.\n",
        "4.   если ни один из номеров года списка years не встретился в названии фильма, то возвращается 1900 год\n",
        "\n",
        "Запишите год выпуска фильма по алгоритму пункта 2 в новый столбец ‘year’\n",
        "Посчитайте средний рейтинг всех фильмов для каждого значения столбца ‘year’ и отсортируйте результат по убыванию рейтинга\n"
      ],
      "id": "american-recorder"
    },
    {
      "cell_type": "code",
      "metadata": {
        "id": "dried-strengthening"
      },
      "source": [
        "years = []\n",
        "for i in range(1950, 2011):\n",
        "    years.append(i)"
      ],
      "id": "dried-strengthening",
      "execution_count": null,
      "outputs": []
    },
    {
      "cell_type": "code",
      "metadata": {
        "id": "abandoned-lodge"
      },
      "source": [
        "ratings = pd.read_csv('ml-latest-small/ratings.csv')\n",
        "moves = pd.read_csv('ml-latest-small/movies.csv')"
      ],
      "id": "abandoned-lodge",
      "execution_count": null,
      "outputs": []
    },
    {
      "cell_type": "code",
      "metadata": {
        "id": "introductory-floor"
      },
      "source": [
        "def get_year(row):\n",
        "    data = row['title'][-5:-1]\n",
        "    result = 1900\n",
        "    if data.isdigit():\n",
        "        data = int(data)\n",
        "        if data in years:\n",
        "            result = data\n",
        "    return result"
      ],
      "id": "introductory-floor",
      "execution_count": null,
      "outputs": []
    },
    {
      "cell_type": "code",
      "metadata": {
        "id": "latter-friday",
        "outputId": "1417fab3-5647-404c-8119-1407e4645dbc"
      },
      "source": [
        "moves['year'] = moves.apply(get_year, axis=1)\n",
        "moves.head()"
      ],
      "id": "latter-friday",
      "execution_count": null,
      "outputs": [
        {
          "output_type": "execute_result",
          "data": {
            "text/html": [
              "<div>\n",
              "<style scoped>\n",
              "    .dataframe tbody tr th:only-of-type {\n",
              "        vertical-align: middle;\n",
              "    }\n",
              "\n",
              "    .dataframe tbody tr th {\n",
              "        vertical-align: top;\n",
              "    }\n",
              "\n",
              "    .dataframe thead th {\n",
              "        text-align: right;\n",
              "    }\n",
              "</style>\n",
              "<table border=\"1\" class=\"dataframe\">\n",
              "  <thead>\n",
              "    <tr style=\"text-align: right;\">\n",
              "      <th></th>\n",
              "      <th>movieId</th>\n",
              "      <th>title</th>\n",
              "      <th>genres</th>\n",
              "      <th>year</th>\n",
              "    </tr>\n",
              "  </thead>\n",
              "  <tbody>\n",
              "    <tr>\n",
              "      <th>0</th>\n",
              "      <td>1</td>\n",
              "      <td>Toy Story (1995)</td>\n",
              "      <td>Adventure|Animation|Children|Comedy|Fantasy</td>\n",
              "      <td>1995</td>\n",
              "    </tr>\n",
              "    <tr>\n",
              "      <th>1</th>\n",
              "      <td>2</td>\n",
              "      <td>Jumanji (1995)</td>\n",
              "      <td>Adventure|Children|Fantasy</td>\n",
              "      <td>1995</td>\n",
              "    </tr>\n",
              "    <tr>\n",
              "      <th>2</th>\n",
              "      <td>3</td>\n",
              "      <td>Grumpier Old Men (1995)</td>\n",
              "      <td>Comedy|Romance</td>\n",
              "      <td>1995</td>\n",
              "    </tr>\n",
              "    <tr>\n",
              "      <th>3</th>\n",
              "      <td>4</td>\n",
              "      <td>Waiting to Exhale (1995)</td>\n",
              "      <td>Comedy|Drama|Romance</td>\n",
              "      <td>1995</td>\n",
              "    </tr>\n",
              "    <tr>\n",
              "      <th>4</th>\n",
              "      <td>5</td>\n",
              "      <td>Father of the Bride Part II (1995)</td>\n",
              "      <td>Comedy</td>\n",
              "      <td>1995</td>\n",
              "    </tr>\n",
              "  </tbody>\n",
              "</table>\n",
              "</div>"
            ],
            "text/plain": [
              "   movieId                               title  \\\n",
              "0        1                    Toy Story (1995)   \n",
              "1        2                      Jumanji (1995)   \n",
              "2        3             Grumpier Old Men (1995)   \n",
              "3        4            Waiting to Exhale (1995)   \n",
              "4        5  Father of the Bride Part II (1995)   \n",
              "\n",
              "                                        genres  year  \n",
              "0  Adventure|Animation|Children|Comedy|Fantasy  1995  \n",
              "1                   Adventure|Children|Fantasy  1995  \n",
              "2                               Comedy|Romance  1995  \n",
              "3                         Comedy|Drama|Romance  1995  \n",
              "4                                       Comedy  1995  "
            ]
          },
          "metadata": {
            "tags": []
          },
          "execution_count": 7
        }
      ]
    },
    {
      "cell_type": "code",
      "metadata": {
        "id": "accessory-survival",
        "outputId": "9b1a070a-9bdc-4fca-98b7-1c906779e294"
      },
      "source": [
        "joined = ratings.merge(moves, on='movieId', how='left')\n",
        "jd=joined.groupby('year').rating.mean().reset_index()\n",
        "jd.sort_values('rating', ascending=False)\n"
      ],
      "id": "accessory-survival",
      "execution_count": null,
      "outputs": [
        {
          "output_type": "execute_result",
          "data": {
            "text/html": [
              "<div>\n",
              "<style scoped>\n",
              "    .dataframe tbody tr th:only-of-type {\n",
              "        vertical-align: middle;\n",
              "    }\n",
              "\n",
              "    .dataframe tbody tr th {\n",
              "        vertical-align: top;\n",
              "    }\n",
              "\n",
              "    .dataframe thead th {\n",
              "        text-align: right;\n",
              "    }\n",
              "</style>\n",
              "<table border=\"1\" class=\"dataframe\">\n",
              "  <thead>\n",
              "    <tr style=\"text-align: right;\">\n",
              "      <th></th>\n",
              "      <th>year</th>\n",
              "      <th>rating</th>\n",
              "    </tr>\n",
              "  </thead>\n",
              "  <tbody>\n",
              "    <tr>\n",
              "      <th>8</th>\n",
              "      <td>1957</td>\n",
              "      <td>4.014241</td>\n",
              "    </tr>\n",
              "    <tr>\n",
              "      <th>23</th>\n",
              "      <td>1972</td>\n",
              "      <td>4.011136</td>\n",
              "    </tr>\n",
              "    <tr>\n",
              "      <th>3</th>\n",
              "      <td>1952</td>\n",
              "      <td>4.000000</td>\n",
              "    </tr>\n",
              "    <tr>\n",
              "      <th>5</th>\n",
              "      <td>1954</td>\n",
              "      <td>3.994220</td>\n",
              "    </tr>\n",
              "    <tr>\n",
              "      <th>2</th>\n",
              "      <td>1951</td>\n",
              "      <td>3.983539</td>\n",
              "    </tr>\n",
              "    <tr>\n",
              "      <th>...</th>\n",
              "      <td>...</td>\n",
              "      <td>...</td>\n",
              "    </tr>\n",
              "    <tr>\n",
              "      <th>56</th>\n",
              "      <td>2005</td>\n",
              "      <td>3.448434</td>\n",
              "    </tr>\n",
              "    <tr>\n",
              "      <th>54</th>\n",
              "      <td>2003</td>\n",
              "      <td>3.444777</td>\n",
              "    </tr>\n",
              "    <tr>\n",
              "      <th>47</th>\n",
              "      <td>1996</td>\n",
              "      <td>3.426600</td>\n",
              "    </tr>\n",
              "    <tr>\n",
              "      <th>48</th>\n",
              "      <td>1997</td>\n",
              "      <td>3.415764</td>\n",
              "    </tr>\n",
              "    <tr>\n",
              "      <th>51</th>\n",
              "      <td>2000</td>\n",
              "      <td>3.355945</td>\n",
              "    </tr>\n",
              "  </tbody>\n",
              "</table>\n",
              "<p>62 rows × 2 columns</p>\n",
              "</div>"
            ],
            "text/plain": [
              "    year    rating\n",
              "8   1957  4.014241\n",
              "23  1972  4.011136\n",
              "3   1952  4.000000\n",
              "5   1954  3.994220\n",
              "2   1951  3.983539\n",
              "..   ...       ...\n",
              "56  2005  3.448434\n",
              "54  2003  3.444777\n",
              "47  1996  3.426600\n",
              "48  1997  3.415764\n",
              "51  2000  3.355945\n",
              "\n",
              "[62 rows x 2 columns]"
            ]
          },
          "metadata": {
            "tags": []
          },
          "execution_count": 8
        }
      ]
    },
    {
      "cell_type": "code",
      "metadata": {
        "id": "robust-following"
      },
      "source": [
        ""
      ],
      "id": "robust-following",
      "execution_count": null,
      "outputs": []
    }
  ]
}